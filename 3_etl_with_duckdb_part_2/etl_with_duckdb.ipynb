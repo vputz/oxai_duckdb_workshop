{
 "cells": [
  {
   "cell_type": "markdown",
   "id": "c7cf75b9-15f7-4000-9b7a-2686314079d4",
   "metadata": {},
   "source": [
    "# ETL With DuckDB part 2: Basic ETL\n",
    "\n",
    "We'd now like to proceed to a somewhat real task: querying a decent amount of data in a way that won't materialize it into memory and converting it into a local hive which we can query at our leisure.  Let's start by creating an in-memory duckdb connection which represents our sources of data as one table as before we'll make our in-memory connection:"
   ]
  },
  {
   "cell_type": "code",
   "execution_count": null,
   "id": "7d740d72-c9f4-4552-8413-4304334bb2dd",
   "metadata": {},
   "outputs": [],
   "source": [
    "import duckdb\n",
    "\n",
    "def create_connection():\n",
    "    # let's set up our duckdb in memory connection\n",
    "    conn=duckdb.connect(\":memory:\")\n",
    "    # the in-memory connection now must be extended to support https access to S3\n",
    "    conn.install_extension(\"httpfs\")\n",
    "    conn.load_extension(\"httpfs\")\n",
    "    # we'll also set up credentials.  Doing it this way is NOT recommended; never\n",
    "    # store secrets in repositories in production!\n",
    "    conn.execute(\"\"\"\n",
    "    CREATE SECRET secret (\n",
    "      TYPE S3,\n",
    "      KEY_ID 'DO801T8KVC4GP7XCU74A',\n",
    "      SECRET 'lZVY1vZlGUYJRim+f1WRpVYmv7PtJvYffheKSW4iJOQ',\n",
    "      REGION 'US',\n",
    "      ENDPOINT 'lon1.digitaloceanspaces.com'\n",
    "    )\"\"\")\n",
    "    return conn\n",
    "\n",
    "conn = create_connection()"
   ]
  },
  {
   "cell_type": "markdown",
   "id": "aa0cd80e-abee-4cb5-8390-3338d09be7ea",
   "metadata": {},
   "source": [
    "But this time we'll build up our data source from multiple parquet files (duckdb supports wildcards as well and as we'll see later can treat a hive partition in a single read, but for now we'll assemble these as if they represent a single data source--another benefit of duckdb)"
   ]
  },
  {
   "cell_type": "code",
   "execution_count": null,
   "id": "ff2ddd94-eecf-4fc9-9336-edf681e07cd2",
   "metadata": {},
   "outputs": [],
   "source": [
    "symbols = [\"CSCO\", \"LSTR\", \"NFLX\", \"SHLS\", \"SOFI\", \"WING\"]\n",
    "files = [f\"s3://thingotron-qs1/artifacts/databento_1_{symbol}_parquet:latest/{symbol}.parquet\" for symbol in symbols]\n",
    "\n",
    "rel=conn.sql(f\"\"\"SELECT * FROM read_parquet([{\", \".join([\"'\"+file+\"'\" for file in files])}])\"\"\")"
   ]
  },
  {
   "cell_type": "code",
   "execution_count": null,
   "id": "49a04d05-0b2f-4d3f-bd3d-839c24331c04",
   "metadata": {},
   "outputs": [],
   "source": [
    "print(rel.shape)"
   ]
  },
  {
   "cell_type": "markdown",
   "id": "89bbbfbd-61e9-4e74-9489-d61cfd857ad0",
   "metadata": {},
   "source": [
    "## Check: How would you list the columns?"
   ]
  },
  {
   "cell_type": "code",
   "execution_count": null,
   "id": "34c79073-9e8e-4d23-bda6-327de3377c3d",
   "metadata": {},
   "outputs": [],
   "source": [
    "# code here"
   ]
  },
  {
   "cell_type": "markdown",
   "id": "b155a90b-11a9-467a-a90b-8267d2509350",
   "metadata": {},
   "source": [
    "Now, the databento folks use a sentinel value (9223372036854775807) to mark price values where the price isn't set.  We'll get a slightly smaller dataset by restricting the query a bit for the next step by only selecting those rows with level 0 defined on both sides:"
   ]
  },
  {
   "cell_type": "code",
   "execution_count": null,
   "id": "cd62ee87-e278-4615-bfc5-1e9487617c46",
   "metadata": {},
   "outputs": [],
   "source": [
    "rel2 = rel.query(\"rel\", \"SELECT * FROM rel WHERE buyside_price_00 < 9.2e13 AND sellside_price_00 < 9.2e13\")\n",
    "print(rel2.shape)"
   ]
  },
  {
   "cell_type": "markdown",
   "id": "e2aa64ad-fd56-406c-b824-ee705a516ad9",
   "metadata": {},
   "source": [
    "# The ETL step\n",
    "\n",
    "Suppose we don't care about much of the data in there and want to write an ETL step which takes only the timestamp, symbol, and first level of the Limit Order Book, represented by the following columns:\n",
    "\n",
    "symbol\n",
    "time_stamp\n",
    "buyside_price_00\n",
    "sellside_price_00\n",
    "\n",
    "Write some code now that \n",
    "* takes the above relation `rel`, \n",
    "* selects the above columns from it, \n",
    "* Converts the prices by dividing them by 1x10^5 and renames them to \"buyside_price\" and \"sellside_price\"\n",
    "* and writes the result into a hive-partitioned set of parquet files in the directory \"minilob\"!\n",
    "\n",
    "Hints:\n",
    "\n",
    "1. In your select statement, you can rename and lightly manipulate columns as such:\n",
    "```\n",
    "SELECT \n",
    "  my_column * 2 AS twice_my_column\n",
    "```\n",
    "\n",
    "2. While you experiment, consider limiting the query (`rel.limit(10)`) to test the output.\n"
   ]
  },
  {
   "cell_type": "code",
   "execution_count": null,
   "id": "7a90cafd-9e75-4d3d-a16f-5a35455e4576",
   "metadata": {},
   "outputs": [],
   "source": [
    "# code here"
   ]
  }
 ],
 "metadata": {
  "kernelspec": {
   "display_name": "Python 3 (ipykernel)",
   "language": "python",
   "name": "python3"
  },
  "language_info": {
   "codemirror_mode": {
    "name": "ipython",
    "version": 3
   },
   "file_extension": ".py",
   "mimetype": "text/x-python",
   "name": "python",
   "nbconvert_exporter": "python",
   "pygments_lexer": "ipython3",
   "version": "3.12.7"
  }
 },
 "nbformat": 4,
 "nbformat_minor": 5
}
