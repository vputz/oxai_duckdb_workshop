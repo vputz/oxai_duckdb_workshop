{
 "cells": [
  {
   "cell_type": "code",
   "execution_count": null,
   "id": "b60debe0-f57f-47a0-9b89-6c22fcda6843",
   "metadata": {},
   "outputs": [],
   "source": [
    "import smallpond\n",
    "from smallpond.logical.dataset import ParquetDataSet\n",
    "sp = smallpond.init(ray_address=\"auto\")\n",
    "ds=ParquetDataSet(\"../3_etl_with_duckdb_part_2/minilob/**/*parquet\")\n",
    "datasets = ds.load_partitioned_datasets(npartition=3, data_partition_column=\"symbol\", hive_partitioning=True)\n",
    "print(datasets)"
   ]
  }
 ],
 "metadata": {
  "kernelspec": {
   "display_name": "Python 3 (ipykernel)",
   "language": "python",
   "name": "python3"
  },
  "language_info": {
   "codemirror_mode": {
    "name": "ipython",
    "version": 3
   },
   "file_extension": ".py",
   "mimetype": "text/x-python",
   "name": "python",
   "nbconvert_exporter": "python",
   "pygments_lexer": "ipython3",
   "version": "3.12.7"
  }
 },
 "nbformat": 4,
 "nbformat_minor": 5
}
